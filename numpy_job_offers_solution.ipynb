{
  "cells": [
    {
      "cell_type": "markdown",
      "metadata": {
        "id": "view-in-github",
        "colab_type": "text"
      },
      "source": [
        "<a href=\"https://colab.research.google.com/github/parsa-abbasi/Data-Preparation-and-Visualization-in-Python/blob/main/numpy_job_offers_solution.ipynb\" target=\"_parent\"><img src=\"https://colab.research.google.com/assets/colab-badge.svg\" alt=\"Open In Colab\"/></a>"
      ]
    },
    {
      "cell_type": "markdown",
      "metadata": {
        "id": "pfSyYLSBTtl9"
      },
      "source": [
        "# NumPy Exercise: Analyzing Job Offers\n",
        "This notebook utilizes NumPy, a Python library for numerical computing, to perform analyses on a dataset containing information about job offers in the technology industry. "
      ]
    },
    {
      "cell_type": "markdown",
      "metadata": {
        "id": "ZBNH4u2xTtmL"
      },
      "source": [
        "## 🗄️ Data\n",
        "The dataset used in this notebook contains information about job offers in the technology industry. It includes the following four arrays:\n",
        "\n",
        "* `job_titles`: an array of strings that represent different job titles offered in the industry.\n",
        "* `salaries`: an array of strings that represent the salary ranges for the job offers. Each string contains two numbers separated by a hyphen, representing the minimum and maximum salaries, respectively.\n",
        "* `companies`: an array of strings that represent the name of the companies offering the job positions.\n",
        "* `years_of_experience`: an array of integers that represent the required years of experience for the job offers."
      ]
    },
    {
      "cell_type": "code",
      "execution_count": null,
      "metadata": {
        "id": "doxrwiIeTtmM"
      },
      "outputs": [],
      "source": [
        "import numpy as np\n",
        "\n",
        "job_titles = np.array(['Data Analyst', 'Machine Learning Engineer',\n",
        "                       'Data Analyst', 'Data Scientist',\n",
        "                       'Data Scientist', 'Database Administrator',\n",
        "                       'Database Administrator', 'Machine Learning Engineer',\n",
        "                       'Data Scientist', 'Machine Learning Engineer',\n",
        "                       'Data Analyst', 'Software Engineer',\n",
        "                       'Back-End Developer', 'Data Analyst'])\n",
        "\n",
        "salaries = np.array(['$78,500 - $102,000', '$130,000 - $190,000',\n",
        "                     '$62,000 - $91,000', '$130,000 - $190,000',\n",
        "                     '$165,000 - $240,000', '$85,000 - $120,000',\n",
        "                     '$95,000 - $135,000', '$120,000 - $180,000',\n",
        "                     '$123,000 - $220,000', '$190,000 - $240,000',\n",
        "                     '$57,500 - $89,000', '$120,000 - $160,000',\n",
        "                     '$110,000 - $145,000', '$70,000 - $110,000'])\n",
        "\n",
        "companies = np.array(['Amazon', 'Apple',\n",
        "                      'Walmart', 'Airbnb',\n",
        "                      'Netflix', 'Microsoft',\n",
        "                      'IBM', 'Tesla', \n",
        "                      'Microsoft', 'Google',\n",
        "                      'Capital One', 'Facebook',\n",
        "                      'Apple', 'JPMorgan Chase'])\n",
        "\n",
        "years_of_experience = np.array([2, 3,\n",
        "                                2, 5,\n",
        "                                5, 5,\n",
        "                                5, 5,\n",
        "                                5, 5,\n",
        "                                2, 3,\n",
        "                                3, 3])"
      ]
    },
    {
      "cell_type": "markdown",
      "metadata": {
        "id": "fRT0mI00TtmO"
      },
      "source": [
        "## 👔 Finding the unique job titles"
      ]
    },
    {
      "cell_type": "code",
      "execution_count": null,
      "metadata": {
        "id": "VK8Qd-ecTtmP",
        "outputId": "0b496d62-5f52-4595-c7ce-d06907520c7a"
      },
      "outputs": [
        {
          "name": "stdout",
          "output_type": "stream",
          "text": [
            "Unique job titles:  ['Back-End Developer' 'Data Analyst' 'Data Scientist'\n",
            " 'Database Administrator' 'Machine Learning Engineer' 'Software Engineer']\n"
          ]
        }
      ],
      "source": [
        "unique_job_titles = np.unique(job_titles)\n",
        "print(\"Unique job titles: \", unique_job_titles)"
      ]
    },
    {
      "cell_type": "markdown",
      "metadata": {
        "id": "l8m3dmPHTtmQ"
      },
      "source": [
        "## 👴🏼 Finding the average years of experience"
      ]
    },
    {
      "cell_type": "code",
      "execution_count": null,
      "metadata": {
        "id": "vVjrlDmgTtmR",
        "outputId": "aa84a2fb-e36c-4f4e-995a-c94b653b3897"
      },
      "outputs": [
        {
          "name": "stdout",
          "output_type": "stream",
          "text": [
            "Average years of experience:  3.7857142857142856\n"
          ]
        }
      ],
      "source": [
        "avg_years_of_experience = np.mean(years_of_experience)\n",
        "print(\"Average years of experience: \", avg_years_of_experience)"
      ]
    },
    {
      "cell_type": "markdown",
      "metadata": {
        "id": "Ak3rsKtTTtmS"
      },
      "source": [
        "## 💰 Calculating the average salary\n",
        "As you can see, the average salary is in the format `$XX,XXX - $XX,XXX`. We need to convert this to a single number.   \n",
        "We can do this by removing the `$` and `,` characters, splitting the string on the `-` character, converting the resulting strings to integers, and then taking the average of the two numbers."
      ]
    },
    {
      "cell_type": "code",
      "execution_count": null,
      "metadata": {
        "id": "YpvhFEZ_TtmS",
        "outputId": "68e40fb5-38e5-43a3-ff7f-62184b7235a5"
      },
      "outputs": [
        {
          "data": {
            "text/plain": [
              "array([ 90250., 160000.,  76500., 160000., 202500., 102500., 115000.,\n",
              "       150000., 171500., 215000.,  73250., 140000., 127500.,  90000.])"
            ]
          },
          "execution_count": 4,
          "metadata": {},
          "output_type": "execute_result"
        }
      ],
      "source": [
        "def average_salary(string):\n",
        "    string = string.replace('$', '').replace(',', '')\n",
        "    salaries = np.array(string.split('-')).astype(float)\n",
        "    return np.mean(salaries)\n",
        "\n",
        "average_salary = np.vectorize(average_salary)\n",
        "avg_salaries = average_salary(salaries)\n",
        "avg_salaries"
      ]
    },
    {
      "cell_type": "markdown",
      "metadata": {
        "id": "w_oFleLKTtmT"
      },
      "source": [
        "## 💸 Finding the average salary for each job title"
      ]
    },
    {
      "cell_type": "code",
      "execution_count": null,
      "metadata": {
        "id": "RQx51EDMTtmU",
        "outputId": "c51ab13b-0b43-4faf-bde3-03ae09095f0b"
      },
      "outputs": [
        {
          "name": "stdout",
          "output_type": "stream",
          "text": [
            "Back-End Developer 127500.0\n",
            "Data Analyst 82500.0\n",
            "Data Scientist 178000.0\n",
            "Database Administrator 108750.0\n",
            "Machine Learning Engineer 175000.0\n",
            "Software Engineer 140000.0\n"
          ]
        }
      ],
      "source": [
        "# Finding the average salary for each job title\n",
        "for job_title in unique_job_titles:\n",
        "    print(job_title, np.mean(avg_salaries[job_titles == job_title]))"
      ]
    },
    {
      "cell_type": "markdown",
      "metadata": {
        "id": "mon1LXvHTtmU"
      },
      "source": [
        "## 🤑 Finding the highest offer"
      ]
    },
    {
      "cell_type": "code",
      "execution_count": null,
      "metadata": {
        "id": "Rwz9ONsCTtmV",
        "outputId": "04eb11a6-eefe-4966-c9b8-853a7f01377c"
      },
      "outputs": [
        {
          "name": "stdout",
          "output_type": "stream",
          "text": [
            "Highest offer average salary:  215000.0\n"
          ]
        }
      ],
      "source": [
        "highest_offer = np.max(avg_salaries)\n",
        "print(\"Highest offer average salary: \", highest_offer)"
      ]
    },
    {
      "cell_type": "code",
      "execution_count": null,
      "metadata": {
        "id": "Hp2vo9s6TtmV",
        "outputId": "450f0748-3901-46b0-ed09-fd38f3ed3b7b"
      },
      "outputs": [
        {
          "name": "stdout",
          "output_type": "stream",
          "text": [
            "Highest offer info:  ('Google', 'Machine Learning Engineer', '$190,000 - $240,000')\n"
          ]
        }
      ],
      "source": [
        "highest_offer_index = np.argmax(avg_salaries)\n",
        "info = (companies[highest_offer_index], job_titles[highest_offer_index], salaries[highest_offer_index])\n",
        "print(\"Highest offer info: \", info)"
      ]
    },
    {
      "cell_type": "markdown",
      "metadata": {
        "id": "ngJD-OH8TtmW"
      },
      "source": [
        "## 📊 Sort the offers by average salary\n",
        "We want to print the companies, job titles and salaries in ascending order of average salaries."
      ]
    },
    {
      "cell_type": "code",
      "execution_count": null,
      "metadata": {
        "id": "fAdnVINkTtmW",
        "outputId": "cd8ffc88-b77b-434d-bc04-60945b196ee0"
      },
      "outputs": [
        {
          "name": "stdout",
          "output_type": "stream",
          "text": [
            "('Capital One', 'Data Analyst', '$57,500 - $89,000')\n",
            "('Walmart', 'Data Analyst', '$62,000 - $91,000')\n",
            "('JPMorgan Chase', 'Data Analyst', '$70,000 - $110,000')\n",
            "('Amazon', 'Data Analyst', '$78,500 - $102,000')\n",
            "('Microsoft', 'Database Administrator', '$85,000 - $120,000')\n",
            "('IBM', 'Database Administrator', '$95,000 - $135,000')\n",
            "('Apple', 'Back-End Developer', '$110,000 - $145,000')\n",
            "('Facebook', 'Software Engineer', '$120,000 - $160,000')\n",
            "('Tesla', 'Machine Learning Engineer', '$120,000 - $180,000')\n",
            "('Apple', 'Machine Learning Engineer', '$130,000 - $190,000')\n",
            "('Airbnb', 'Data Scientist', '$130,000 - $190,000')\n",
            "('Microsoft', 'Data Scientist', '$123,000 - $220,000')\n",
            "('Netflix', 'Data Scientist', '$165,000 - $240,000')\n",
            "('Google', 'Machine Learning Engineer', '$190,000 - $240,000')\n"
          ]
        }
      ],
      "source": [
        "sorted_indices = np.argsort(avg_salaries)\n",
        "\n",
        "for index in sorted_indices:\n",
        "    print((companies[index], job_titles[index], salaries[index]))"
      ]
    },
    {
      "cell_type": "markdown",
      "metadata": {
        "id": "5SRsSXzlTtmW"
      },
      "source": [
        "## 👧🏼 Finding all the offers with a required experience of 3 years or less\n",
        "We want to print the companies, job titles, years of experience and average salaries for all the offers with less than 3 years of experience."
      ]
    },
    {
      "cell_type": "code",
      "execution_count": null,
      "metadata": {
        "id": "Ny-ce1SuTtmX",
        "outputId": "25259aa8-a458-467f-d5e6-1da8a8e17290"
      },
      "outputs": [
        {
          "name": "stdout",
          "output_type": "stream",
          "text": [
            "('Amazon', 'Data Analyst', 2, 90250.0)\n",
            "('Apple', 'Machine Learning Engineer', 3, 160000.0)\n",
            "('Walmart', 'Data Analyst', 2, 76500.0)\n",
            "('Capital One', 'Data Analyst', 2, 73250.0)\n",
            "('Facebook', 'Software Engineer', 3, 140000.0)\n",
            "('Apple', 'Back-End Developer', 3, 127500.0)\n",
            "('JPMorgan Chase', 'Data Analyst', 3, 90000.0)\n"
          ]
        }
      ],
      "source": [
        "mask = years_of_experience <= 3\n",
        "\n",
        "for index in np.arange(len(companies))[mask]:\n",
        "    print((companies[index], job_titles[index], years_of_experience[index], avg_salaries[index]))"
      ]
    },
    {
      "cell_type": "markdown",
      "metadata": {
        "id": "-aE5E2qSTtmX"
      },
      "source": [
        "## 📦 Concatenate the arrays\n",
        "\n",
        "Now let's combine all the information into a single array.\n",
        "Each row will contain the company, job title, years of experience, salary range, and average salary.   \n",
        "For example, the first row should be like this: `['Amazon' 'Data Analyst' '2' '$78,500 - $102,000' '90250.0']`"
      ]
    },
    {
      "cell_type": "code",
      "execution_count": null,
      "metadata": {
        "id": "XN5AWZJiTtmX",
        "outputId": "fac2d84a-b932-4a4e-9a67-b4605be79b5d"
      },
      "outputs": [
        {
          "name": "stdout",
          "output_type": "stream",
          "text": [
            "[['Amazon' 'Data Analyst' '2' '$78,500 - $102,000' '90250.0']\n",
            " ['Apple' 'Machine Learning Engineer' '3' '$130,000 - $190,000'\n",
            "  '160000.0']\n",
            " ['Walmart' 'Data Analyst' '2' '$62,000 - $91,000' '76500.0']\n",
            " ['Airbnb' 'Data Scientist' '5' '$130,000 - $190,000' '160000.0']\n",
            " ['Netflix' 'Data Scientist' '5' '$165,000 - $240,000' '202500.0']\n",
            " ['Microsoft' 'Database Administrator' '5' '$85,000 - $120,000'\n",
            "  '102500.0']\n",
            " ['IBM' 'Database Administrator' '5' '$95,000 - $135,000' '115000.0']\n",
            " ['Tesla' 'Machine Learning Engineer' '5' '$120,000 - $180,000'\n",
            "  '150000.0']\n",
            " ['Microsoft' 'Data Scientist' '5' '$123,000 - $220,000' '171500.0']\n",
            " ['Google' 'Machine Learning Engineer' '5' '$190,000 - $240,000'\n",
            "  '215000.0']\n",
            " ['Capital One' 'Data Analyst' '2' '$57,500 - $89,000' '73250.0']\n",
            " ['Facebook' 'Software Engineer' '3' '$120,000 - $160,000' '140000.0']\n",
            " ['Apple' 'Back-End Developer' '3' '$110,000 - $145,000' '127500.0']\n",
            " ['JPMorgan Chase' 'Data Analyst' '3' '$70,000 - $110,000' '90000.0']]\n"
          ]
        }
      ],
      "source": [
        "job_offers = np.column_stack((companies, job_titles, years_of_experience, salaries, avg_salaries))\n",
        "print(job_offers)"
      ]
    }
  ],
  "metadata": {
    "kernelspec": {
      "display_name": "quera",
      "language": "python",
      "name": "python3"
    },
    "language_info": {
      "codemirror_mode": {
        "name": "ipython",
        "version": 3
      },
      "file_extension": ".py",
      "mimetype": "text/x-python",
      "name": "python",
      "nbconvert_exporter": "python",
      "pygments_lexer": "ipython3",
      "version": "3.9.7"
    },
    "orig_nbformat": 4,
    "vscode": {
      "interpreter": {
        "hash": "6a29b8f2e1e8b11f80c3820468461bcdbea6564508a235f61a46eeb59d48b308"
      }
    },
    "colab": {
      "provenance": [],
      "include_colab_link": true
    }
  },
  "nbformat": 4,
  "nbformat_minor": 0
}