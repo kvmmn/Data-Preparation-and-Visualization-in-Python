{
 "cells": [
  {
   "attachments": {},
   "cell_type": "markdown",
   "metadata": {},
   "source": [
    "# Pandas Exercise: IMDB Top 250 Movies"
   ]
  },
  {
   "attachments": {},
   "cell_type": "markdown",
   "metadata": {},
   "source": [
    "## 🗄️ Data\n",
    "The dataset we will be using contains the top 250 movies from IMDB as of 2022. This dataset can be found on [Kaggle](https://www.kaggle.com/datasets/rajugc/imdb-top-250-movies-dataset), but you can also access it directly from [this link](https://parsa-abbasi.github.io/slides/pandas/imdb_top_250_movies.csv).\n",
    "\n",
    "The dataset contains the following columns:\n",
    "- `rank`: The rank of the movie on IMDB\n",
    "- `name`: The name of the movie\n",
    "- `year`: The year the movie was released\n",
    "- `rating`: The rating of the movie on IMDB\n",
    "- `genre`: The genre of the movie\n",
    "- `certificate`: The certificate of the movie (e.g. PG-13, R, etc.)\n",
    "- `run_time`: The runtime of the movie in a string format (e.g. 1h 30m)\n",
    "- `tagline`: The tagline of the movie\n",
    "- `budget`: The budget of the movie in dollars\n",
    "- `box_office`: Total box office collection across the world in dollars\n",
    "- `cast`: All casts of the movie\n",
    "- `directors`: The director(s) of the movie\n",
    "- `writers`: The writer(s) of the movie\n",
    "\n",
    "The missing values in the dataset are represented as `<NA>` and `Not Available`."
   ]
  },
  {
   "cell_type": "code",
   "execution_count": null,
   "metadata": {},
   "outputs": [],
   "source": [
    "import pandas as pd\n",
    "imdb = None # To-Do"
   ]
  },
  {
   "attachments": {},
   "cell_type": "markdown",
   "metadata": {},
   "source": [
    "## Display Top 10 Highest-Rated Movies"
   ]
  },
  {
   "cell_type": "code",
   "execution_count": null,
   "metadata": {},
   "outputs": [],
   "source": [
    "# To-Do"
   ]
  },
  {
   "attachments": {},
   "cell_type": "markdown",
   "metadata": {},
   "source": [
    "## Number of Movies Released After 2020\n",
    "Find the number of movies released after 2020 and assign it to the variable `num_movies_after_2020`."
   ]
  },
  {
   "cell_type": "code",
   "execution_count": null,
   "metadata": {},
   "outputs": [],
   "source": [
    "num_movies_after_2020 = None # To-Do\n",
    "print('The number of movies released after 2020 is', num_movies_after_2020)"
   ]
  },
  {
   "attachments": {},
   "cell_type": "markdown",
   "metadata": {},
   "source": [
    "## Movies Starring Leonardo DiCaprio\n",
    "Filter the dataset to only include movies starring Leonardo DiCaprio and assign the result to the variable `leo_movies`."
   ]
  },
  {
   "cell_type": "code",
   "execution_count": null,
   "metadata": {},
   "outputs": [],
   "source": [
    "leo_movies = None # To-Do\n",
    "leo_movies"
   ]
  },
  {
   "attachments": {},
   "cell_type": "markdown",
   "metadata": {},
   "source": [
    "## Average Runtime of Movies\n",
    "Compute the average runtime of movies (in minutes) and assign it to the variable `avg_runtime`."
   ]
  },
  {
   "cell_type": "code",
   "execution_count": null,
   "metadata": {},
   "outputs": [],
   "source": [
    "avg_runtime = None # To-Do\n",
    "print('The average runtime of movies in the dataset is', avg_runtime)\n",
    "print('Which is equal to', int(avg_runtime / 60), 'hours and', int(avg_runtime % 60), 'minutes')"
   ]
  },
  {
   "attachments": {},
   "cell_type": "markdown",
   "metadata": {},
   "source": [
    "## Most Common Genre\n",
    "Find the most common genre and put it name in the variable `most_common_genre` and the number of movies in that genre in the variable `most_common_genre_count`."
   ]
  },
  {
   "cell_type": "code",
   "execution_count": null,
   "metadata": {},
   "outputs": [],
   "source": [
    "most_common_genre = None # To-Do\n",
    "most_common_genre_count = None # To-Do\n",
    "print('The most common genre is', most_common_genre, 'with', most_common_genre_count, 'movies')"
   ]
  },
  {
   "attachments": {},
   "cell_type": "markdown",
   "metadata": {},
   "source": [
    "## Which movie has the longest runtime?\n",
    "Find the movie with the longest runtime and put its name in the variable `longest_runtime_movie` and its runtime (in minutes) in the variable `longest_runtime`."
   ]
  },
  {
   "cell_type": "code",
   "execution_count": null,
   "metadata": {},
   "outputs": [],
   "source": [
    "longest_runtime = None # To-Do\n",
    "longest_runtime_movie = None # To-Do\n",
    "print('The longest runtime movie is', longest_runtime_movie, 'with a runtime of', int(longest_runtime / 60), 'hours and', int(longest_runtime % 60), 'minutes')"
   ]
  },
  {
   "attachments": {},
   "cell_type": "markdown",
   "metadata": {},
   "source": [
    "## Which movie has the highest box office collection?\n",
    "\n",
    "Find the movie with the highest box office collection and assign its name to the variable `highest_box_movie` and its box office collection to the variable `highest_box_value`."
   ]
  },
  {
   "cell_type": "code",
   "execution_count": null,
   "metadata": {},
   "outputs": [],
   "source": [
    "highest_box_movie = None # To-Do\n",
    "highest_box_value = None # To-Do\n",
    "print('The highest grossing movie is', highest_box_movie, 'with a box office of', highest_box_value)"
   ]
  },
  {
   "attachments": {},
   "cell_type": "markdown",
   "metadata": {},
   "source": [
    "# Which movies were directed by one of their writers?\n",
    "\n",
    "Extract the movies that were directed by one of their writers."
   ]
  },
  {
   "cell_type": "code",
   "execution_count": null,
   "metadata": {},
   "outputs": [],
   "source": [
    "imdb.loc[None] # To-Do"
   ]
  },
  {
   "attachments": {},
   "cell_type": "markdown",
   "metadata": {},
   "source": [
    "# Save the dataset to a JSON file\n",
    "First convert each column with comma-separated values to a list of strings. Then save the dataset to a `JSON` file."
   ]
  },
  {
   "cell_type": "code",
   "execution_count": null,
   "metadata": {},
   "outputs": [],
   "source": [
    "# To-Do"
   ]
  }
 ],
 "metadata": {
  "kernelspec": {
   "display_name": "quera",
   "language": "python",
   "name": "python3"
  },
  "language_info": {
   "codemirror_mode": {
    "name": "ipython",
    "version": 3
   },
   "file_extension": ".py",
   "mimetype": "text/x-python",
   "name": "python",
   "nbconvert_exporter": "python",
   "pygments_lexer": "ipython3",
   "version": "3.9.7"
  },
  "orig_nbformat": 4,
  "vscode": {
   "interpreter": {
    "hash": "6a29b8f2e1e8b11f80c3820468461bcdbea6564508a235f61a46eeb59d48b308"
   }
  }
 },
 "nbformat": 4,
 "nbformat_minor": 2
}
